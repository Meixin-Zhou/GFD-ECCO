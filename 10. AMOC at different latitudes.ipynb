{
 "cells": [
  {
   "cell_type": "code",
   "execution_count": 1,
   "id": "02cd5a13-2bbc-4655-96f5-7696ad3f3ca0",
   "metadata": {},
   "outputs": [],
   "source": [
    "import numpy as np\n",
    "import sys\n",
    "import xarray as xr\n",
    "import matplotlib.pyplot as plt\n",
    "from matplotlib.colors import BoundaryNorm\n",
    "from matplotlib.ticker import MaxNLocator\n",
    "\n",
    "%matplotlib inline\n",
    "import glob\n",
    "import warnings\n",
    "warnings.filterwarnings('ignore')\n",
    "from pprint import pprint\n",
    "import importlib\n",
    "\n",
    "import math\n",
    "import geopy\n",
    "from geopy import distance"
   ]
  },
  {
   "cell_type": "code",
   "execution_count": 2,
   "id": "5a900f9e-be3d-41eb-88df-1050bf9aa8b6",
   "metadata": {},
   "outputs": [
    {
     "name": "stdout",
     "output_type": "stream",
     "text": [
      "created download directory /home/m267zhou/Downloads/ECCO_V4r4_PODAAC/ECCO_L4_GEOMETRY_LLC0090GRID_V4R4\n",
      "{'ShortName': 'ECCO_L4_GEOMETRY_LLC0090GRID_V4R4', 'temporal': '2000-01-09,2000-01-14'}\n",
      "\n",
      "Total number of matching granules: 1\n",
      "\n",
      "GRID_GEOMETRY_ECCO_V4r4_native_llc0090.nc already exists, and force=False, not re-downloading\n",
      "DL Progress: 100%|########################| 1/1 [00:00<00:00, 11491.24it/s]\n",
      "\n",
      "=====================================\n",
      "total downloaded: 0.0 Mb\n",
      "avg download speed: 0.0 Mb/s\n"
     ]
    }
   ],
   "source": [
    "#download the ECCO grid file\n",
    "\n",
    "from ecco_download import *\n",
    "\n",
    "ecco_podaac_download(ShortName=\"ECCO_L4_GEOMETRY_LLC0090GRID_V4R4\",\\\n",
    "                    StartDate=\"2000-01-09\",EndDate=\"2000-01-14\",download_root_dir=None,\\\n",
    "                    n_workers=6,force_redownload=False)"
   ]
  },
  {
   "cell_type": "code",
   "execution_count": 3,
   "id": "3b0d2faa-a3b3-4b40-91e9-bd40ab6ba09b",
   "metadata": {},
   "outputs": [
    {
     "name": "stdout",
     "output_type": "stream",
     "text": [
      "created download directory /home/m267zhou/Downloads/ECCO_V4r4_PODAAC/ECCO_L4_OCEAN_3D_VOLUME_FLUX_LLC0090GRID_MONTHLY_V4R4\n",
      "{'ShortName': 'ECCO_L4_OCEAN_3D_VOLUME_FLUX_LLC0090GRID_MONTHLY_V4R4', 'temporal': '2000-01-02,2000-12-31'}\n",
      "\n",
      "Total number of matching granules: 12\n",
      "\n",
      "OCEAN_3D_VOLUME_FLUX_mon_mean_2000-01_ECCO_V4r4_native_llc0090.nc already exists, and force=False, not re-downloading\n",
      "\n",
      "OCEAN_3D_VOLUME_FLUX_mon_mean_2000-02_ECCO_V4r4_native_llc0090.nc already exists, and force=False, not re-downloading\n",
      "\n",
      "OCEAN_3D_VOLUME_FLUX_mon_mean_2000-03_ECCO_V4r4_native_llc0090.nc already exists, and force=False, not re-downloading\n",
      "\n",
      "OCEAN_3D_VOLUME_FLUX_mon_mean_2000-04_ECCO_V4r4_native_llc0090.nc already exists, and force=False, not re-downloading\n",
      "\n",
      "OCEAN_3D_VOLUME_FLUX_mon_mean_2000-05_ECCO_V4r4_native_llc0090.nc already exists, and force=False, not re-downloading\n",
      "\n",
      "OCEAN_3D_VOLUME_FLUX_mon_mean_2000-06_ECCO_V4r4_native_llc0090.nc already exists, and force=False, not re-downloading\n",
      "\n",
      "OCEAN_3D_VOLUME_FLUX_mon_mean_2000-08_ECCO_V4r4_native_llc0090.nc already exists, and force=False, not re-downloading\n",
      "\n",
      "OCEAN_3D_VOLUME_FLUX_mon_mean_2000-07_ECCO_V4r4_native_llc0090.nc already exists, and force=False, not re-downloading\n",
      "DL Progress:   0%|                                  | 0/12 [00:00<?, ?it/s]\n",
      "OCEAN_3D_VOLUME_FLUX_mon_mean_2000-10_ECCO_V4r4_native_llc0090.nc already exists, and force=False, not re-downloading\n",
      "\n",
      "OCEAN_3D_VOLUME_FLUX_mon_mean_2000-09_ECCO_V4r4_native_llc0090.nc already exists, and force=False, not re-downloading\n",
      "\n",
      "OCEAN_3D_VOLUME_FLUX_mon_mean_2000-12_ECCO_V4r4_native_llc0090.nc already exists, and force=False, not re-downloading\n",
      "\n",
      "OCEAN_3D_VOLUME_FLUX_mon_mean_2000-11_ECCO_V4r4_native_llc0090.nc already exists, and force=False, not re-downloading\n",
      "DL Progress: 100%|######################| 12/12 [00:00<00:00, 11348.74it/s]\n",
      "\n",
      "=====================================\n",
      "total downloaded: 0.0 Mb\n",
      "avg download speed: 0.0 Mb/s\n"
     ]
    }
   ],
   "source": [
    "# download file (granule) containing 2000 velocities,\n",
    "# to default path ~/Downloads/ECCO_V4r4_PODAAC/\n",
    "vol_monthly_shortname = \"ECCO_L4_OCEAN_3D_VOLUME_FLUX_LLC0090GRID_MONTHLY_V4R4\"\n",
    "ecco_podaac_download(ShortName=vol_monthly_shortname,\\\n",
    "                    StartDate=\"2000-01-02\",EndDate=\"2000-12-31\",download_root_dir=None,\\\n",
    "                    n_workers=6,force_redownload=False)"
   ]
  },
  {
   "cell_type": "code",
   "execution_count": 4,
   "id": "47c2d15f-b87d-4e32-96fc-5c65e1b312ea",
   "metadata": {},
   "outputs": [],
   "source": [
    "## Import the ecco_v4_py library into Python\n",
    "## =========================================\n",
    "##    If ecco_v4_py is not installed in your local Python library, \n",
    "##    tell Python where to find it.  The example below adds\n",
    "##    ecco_v4_py to the user's path if it is stored in the folder\n",
    "##    ECCOv4-py under the user's home directory\n",
    "\n",
    "from os.path import join,expanduser\n",
    "user_home_dir = expanduser('~')\n",
    "\n",
    "sys.path.append(join(user_home_dir,'ECCOv4-py'))\n",
    "\n",
    "import ecco_v4_py as ecco"
   ]
  },
  {
   "cell_type": "code",
   "execution_count": 5,
   "id": "8c8cde16-445b-4865-9175-74e144bdc98c",
   "metadata": {},
   "outputs": [],
   "source": [
    "## Set top-level file directory for the ECCO NetCDF files\n",
    "## =================================================================\n",
    "\n",
    "## currently set to ~/Downloads/ECCO_V4r4_PODAAC, \n",
    "## the default if ecco_podaac_download was used to download dataset granules\n",
    "ECCO_dir = join(user_home_dir,'Downloads','ECCO_V4r4_PODAAC')"
   ]
  },
  {
   "cell_type": "code",
   "execution_count": 6,
   "id": "10f20077-2735-413b-88ec-444c3faa5694",
   "metadata": {},
   "outputs": [],
   "source": [
    "## Load the model grid\n",
    "ecco_grid = xr.open_dataset(glob.glob(join(ECCO_dir,'*GEOMETRY*','*.nc'))[0])"
   ]
  },
  {
   "cell_type": "code",
   "execution_count": 7,
   "id": "9277f842-d5c5-46fc-9d4b-4634880ea96a",
   "metadata": {},
   "outputs": [],
   "source": [
    "## Load vector fields\n",
    "ecco_vars1 = xr.open_mfdataset(join(ECCO_dir,'*OCEAN*VEL*MONTHLY*','*_2000-*.nc'))\n",
    "ecco_vars2 = xr.open_mfdataset(join(ECCO_dir,'*OCEAN*VOLUME*MONTHLY*','*_2000-*.nc'))\n",
    "\n",
    "\n",
    "ecco_ds = []\n",
    "\n",
    "## Merge the ecco_grid with the ecco_vars to make the ecco_ds\n",
    "ecco_ds = xr.merge((ecco_grid , ecco_vars1, ecco_vars2)).load()"
   ]
  },
  {
   "cell_type": "code",
   "execution_count": 8,
   "id": "862941f0-51f9-44ec-a3eb-a0a74e7d9315",
   "metadata": {},
   "outputs": [],
   "source": [
    "#To store complete zonal integral in 2D arrays (integrate over all longitudes). Dimension is depth by lat.\n",
    "complete_zonal_integral_for_VVELMASS = np.zeros((50, 52+90))"
   ]
  },
  {
   "cell_type": "code",
   "execution_count": 9,
   "id": "3a14c7cb-4746-40ca-8a6b-c2d49d1fe48d",
   "metadata": {},
   "outputs": [],
   "source": [
    "#Exclude pacific ocean\n",
    "xfld = ecco_ds.UVEL.isel(k=0, time=0)\n",
    "yfld = ecco_ds.VVEL.isel(k=0, time=0)\n",
    "#Compute the zonal and meridional vector components of UVEL and VVEL\n",
    "VEL_E, VEL_N  = ecco.vector_calc.UEVNfromUXVY(xfld, yfld, ecco_ds)\n",
    "valid_lon_for_each_lat = np.zeros(90)\n",
    "for lat in range(0,90):\n",
    "    for lon in range(0,90):\n",
    "        if (math.isnan(VEL_E.isel(tile=10)[lon,lat]) == True):\n",
    "            valid_lon_for_each_lat[lat] = lon\n",
    "            break\n",
    "        else:\n",
    "            continue"
   ]
  },
  {
   "cell_type": "code",
   "execution_count": 10,
   "id": "d2919889-36cf-421e-b524-10ad8e09d78e",
   "metadata": {},
   "outputs": [],
   "source": [
    "#Compute zonal integral of meridional velocity (VVELMASS)\n",
    "#the Atlantic ocean is in tile 1,2,10,11\n",
    "for depth in range(0,50):\n",
    "    xfld = ecco_ds.UVELMASS.isel(k=depth, time=0)\n",
    "    yfld = ecco_ds.VVELMASS.isel(k=depth, time=0)\n",
    "    \n",
    "    # Compute the zonal and meridional vector components of UVEL and VVEL\n",
    "    VEL_E, VEL_N  = ecco.vector_calc.UEVNfromUXVY(xfld, yfld, ecco_ds)  \n",
    "    \n",
    "    for lat in range(0,90):\n",
    "        sum = 0\n",
    "        for lon in range(0,89):\n",
    "            if ((math.isnan(VEL_N.isel(tile=10)[lon,lat]) == True) or (valid_lon_for_each_lat[lat] >= lon)):\n",
    "                sum = sum\n",
    "            else:\n",
    "                sum = sum + VEL_N.isel(tile=10)[lon,lat] * distance.distance((VEL_N.isel(tile=10).YC[lon,lat], VEL_N.isel(tile=10).XC[lon,lat]), (VEL_N.isel(tile=10).YC[lon+1,lat], VEL_N.isel(tile=10).XC[lon+1,lat])).m\n",
    "        for lon in range(0,89):\n",
    "            if (math.isnan(VEL_N.isel(tile=2)[89-lat, lon]) == True):\n",
    "                sum = sum\n",
    "            else:\n",
    "                sum = sum + VEL_N.isel(tile=2)[89-lat, lon] * distance.distance((VEL_N.isel(tile=2).YC[89-lat, lon], VEL_N.isel(tile=2).XC[89-lat, lon]), (VEL_N.isel(tile=2).YC[89-lat, lon+1], VEL_N.isel(tile=2).XC[89-lat, lon+1])).m\n",
    "        \n",
    "        complete_zonal_integral_for_VVELMASS[depth, lat] = sum\n",
    "        \n",
    "    for lat in range(0,52):\n",
    "        sum = 0\n",
    "        for lon in range(67,89):\n",
    "            if (math.isnan(VEL_N.isel(tile=11)[lon,lat]) == True):\n",
    "                sum = sum\n",
    "            else:\n",
    "                sum = sum + VEL_N.isel(tile=11)[lon,lat] * distance.distance((VEL_N.isel(tile=11).YC[lon,lat], VEL_N.isel(tile=11).XC[lon,lat]), (VEL_N.isel(tile=11).YC[lon+1,lat], VEL_N.isel(tile=11).XC[lon+1,lat])).m\n",
    "        for lon in range(0,57):\n",
    "            if (math.isnan(VEL_N.isel(tile=1)[89-lat, lon]) == True):\n",
    "                sum = sum\n",
    "            else:\n",
    "                sum = sum + VEL_N.isel(tile=1)[89-lat, lon] * distance.distance((VEL_N.isel(tile=1).YC[89-lat, lon], VEL_N.isel(tile=1).XC[89-lat, lon]), (VEL_N.isel(tile=1).YC[89-lat, lon+1], VEL_N.isel(tile=1).XC[89-lat, lon+1])).m\n",
    "        \n",
    "        complete_zonal_integral_for_VVELMASS[depth, 89+lat] = sum"
   ]
  },
  {
   "cell_type": "code",
   "execution_count": 11,
   "id": "ff13ea5a-7067-4c14-9a0a-3cfac829f130",
   "metadata": {},
   "outputs": [],
   "source": [
    "xfld = ecco_ds.UVEL.isel(k=0, time=0)\n",
    "yfld = ecco_ds.VVEL.isel(k=0, time=0)\n",
    "# Compute the zonal and meridional vector components of UVEL and VVEL\n",
    "VEL_E, VEL_N  = ecco.vector_calc.UEVNfromUXVY(xfld, yfld, ecco_ds)  \n",
    "\n",
    "# Get latitude and depth array\n",
    "latitude_array = np.append(VEL_N.isel(tile=10).YC[0,:].values, VEL_N.isel(tile=11).YC[0,0:52].values)\n",
    "depth_array = ecco_grid.Z[0:50].values"
   ]
  },
  {
   "cell_type": "code",
   "execution_count": 12,
   "id": "1ddcc739-6b53-4f03-968d-61b64e2446bf",
   "metadata": {},
   "outputs": [],
   "source": [
    "#amoc array\n",
    "amoc = np.zeros((52+90))"
   ]
  },
  {
   "cell_type": "code",
   "execution_count": 13,
   "id": "9db7df35-a35e-4bfd-bf4d-2b1058572bff",
   "metadata": {},
   "outputs": [],
   "source": [
    "#compute amoc\n",
    "for lat in range(0, 52+90):\n",
    "    sum = 0\n",
    "    arr = np.zeros(49)\n",
    "    for depth in range(0, 49):\n",
    "        sum = sum + complete_zonal_integral_for_VVELMASS[depth, lat] *  (-(depth_array[depth+1] - depth_array[depth]))\n",
    "        arr[depth] = sum\n",
    "    amoc[lat] = np.max(arr)"
   ]
  },
  {
   "cell_type": "code",
   "execution_count": 14,
   "id": "310b8065-e366-42d0-aa6a-c1805b81ad86",
   "metadata": {},
   "outputs": [
    {
     "data": {
      "text/plain": [
       "Text(0.5, 1.0, 'amoc using VVELMASS in the Atlantic Ocean')"
      ]
     },
     "execution_count": 14,
     "metadata": {},
     "output_type": "execute_result"
    },
    {
     "data": {
      "image/png": "[encoded data removed]",
      "text/plain": [
       "<Figure size 640x480 with 1 Axes>"
      ]
     },
     "metadata": {},
     "output_type": "display_data"
    }
   ],
   "source": [
    "plt.plot(latitude_array, amoc/1000000)\n",
    "plt.xlabel(\"latitude\")\n",
    "plt.ylabel(\"amoc (Sv)\")\n",
    "plt.title(\"amoc using VVELMASS in the Atlantic Ocean\")"
   ]
  },
  {
   "cell_type": "code",
   "execution_count": null,
   "id": "ffc90e61-5c9e-46e7-abb7-098ff20c3c53",
   "metadata": {},
   "outputs": [],
   "source": []
  }
 ],
 "metadata": {
  "kernelspec": {
   "display_name": "meixin",
   "language": "python",
   "name": "meixin"
  },
  "language_info": {
   "codemirror_mode": {
    "name": "ipython",
    "version": 3
   },
   "file_extension": ".py",
   "mimetype": "text/x-python",
   "name": "python",
   "nbconvert_exporter": "python",
   "pygments_lexer": "ipython3",
   "version": "3.11.3"
  }
 },
 "nbformat": 4,
 "nbformat_minor": 5
}
