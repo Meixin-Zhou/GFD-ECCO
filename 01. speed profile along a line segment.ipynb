{
 "cells": [
  {
   "cell_type": "code",
   "execution_count": 1,
   "id": "6af187c3-0c63-4b57-815a-7cea43fada19",
   "metadata": {},
   "outputs": [],
   "source": [
    "import numpy as np\n",
    "import sys\n",
    "import xarray as xr\n",
    "import matplotlib.pyplot as plt\n",
    "from matplotlib.colors import BoundaryNorm\n",
    "from matplotlib.ticker import MaxNLocator\n",
    "import geopy\n",
    "from geopy import distance\n",
    "\n",
    "%matplotlib inline\n",
    "import glob\n",
    "import warnings\n",
    "warnings.filterwarnings('ignore')\n",
    "from pprint import pprint\n",
    "import importlib"
   ]
  },
  {
   "cell_type": "code",
   "execution_count": 2,
   "id": "e8ce57ea-a76c-4e74-984b-73f033dd8d48",
   "metadata": {},
   "outputs": [
    {
     "name": "stdout",
     "output_type": "stream",
     "text": [
      "created download directory /home/m267zhou/Downloads/ECCO_V4r4_PODAAC/ECCO_L4_GEOMETRY_LLC0090GRID_V4R4\n",
      "{'ShortName': 'ECCO_L4_GEOMETRY_LLC0090GRID_V4R4', 'temporal': '2000-01-09,2000-01-14'}\n",
      "\n",
      "Total number of matching granules: 1\n",
      "\n",
      "GRID_GEOMETRY_ECCO_V4r4_native_llc0090.nc already exists, and force=False, not re-downloading\n",
      "DL Progress: 100%|#########################| 1/1 [00:00<00:00, 9845.78it/s]\n",
      "\n",
      "=====================================\n",
      "total downloaded: 0.0 Mb\n",
      "avg download speed: 0.0 Mb/s\n"
     ]
    }
   ],
   "source": [
    "#download the ECCO grid file\n",
    "\n",
    "from ecco_download import *\n",
    "\n",
    "ecco_podaac_download(ShortName=\"ECCO_L4_GEOMETRY_LLC0090GRID_V4R4\",\\\n",
    "                    StartDate=\"2000-01-09\",EndDate=\"2000-01-14\",download_root_dir=None,\\\n",
    "                    n_workers=6,force_redownload=False)"
   ]
  },
  {
   "cell_type": "code",
   "execution_count": 3,
   "id": "2822835b-3577-495c-ab49-b34452f04bb8",
   "metadata": {},
   "outputs": [
    {
     "name": "stdout",
     "output_type": "stream",
     "text": [
      "created download directory /home/m267zhou/Downloads/ECCO_V4r4_PODAAC/ECCO_L4_OCEAN_VEL_LLC0090GRID_MONTHLY_V4R4\n",
      "{'ShortName': 'ECCO_L4_OCEAN_VEL_LLC0090GRID_MONTHLY_V4R4', 'temporal': '2000-01-02,2000-12-31'}\n",
      "\n",
      "Total number of matching granules: 12\n",
      "\n",
      "OCEAN_VELOCITY_mon_mean_2000-02_ECCO_V4r4_native_llc0090.nc already exists, and force=False, not re-downloading\n",
      "\n",
      "OCEAN_VELOCITY_mon_mean_2000-01_ECCO_V4r4_native_llc0090.nc already exists, and force=False, not re-downloading\n",
      "\n",
      "OCEAN_VELOCITY_mon_mean_2000-03_ECCO_V4r4_native_llc0090.nc already exists, and force=False, not re-downloading\n",
      "\n",
      "OCEAN_VELOCITY_mon_mean_2000-04_ECCO_V4r4_native_llc0090.nc already exists, and force=False, not re-downloading\n",
      "\n",
      "OCEAN_VELOCITY_mon_mean_2000-05_ECCO_V4r4_native_llc0090.nc already exists, and force=False, not re-downloading\n",
      "\n",
      "OCEAN_VELOCITY_mon_mean_2000-06_ECCO_V4r4_native_llc0090.nc already exists, and force=False, not re-downloading\n",
      "\n",
      "OCEAN_VELOCITY_mon_mean_2000-07_ECCO_V4r4_native_llc0090.nc already exists, and force=False, not re-downloading\n",
      "\n",
      "OCEAN_VELOCITY_mon_mean_2000-08_ECCO_V4r4_native_llc0090.nc already exists, and force=False, not re-downloading\n",
      "\n",
      "OCEAN_VELOCITY_mon_mean_2000-09_ECCO_V4r4_native_llc0090.nc already exists, and force=False, not re-downloading\n",
      "DL Progress:   0%|                                  | 0/12 [00:00<?, ?it/s]\n",
      "OCEAN_VELOCITY_mon_mean_2000-12_ECCO_V4r4_native_llc0090.nc already exists, and force=False, not re-downloading\n",
      "\n",
      "OCEAN_VELOCITY_mon_mean_2000-11_ECCO_V4r4_native_llc0090.nc already exists, and force=False, not re-downloading\n",
      "\n",
      "OCEAN_VELOCITY_mon_mean_2000-10_ECCO_V4r4_native_llc0090.nc already exists, and force=False, not re-downloading\n",
      "DL Progress: 100%|######################| 12/12 [00:00<00:00, 14584.66it/s]\n",
      "\n",
      "=====================================\n",
      "total downloaded: 0.0 Mb\n",
      "avg download speed: 0.0 Mb/s\n"
     ]
    }
   ],
   "source": [
    "# download file (granule) containing 2000 velocities,\n",
    "# to default path ~/Downloads/ECCO_V4r4_PODAAC/\n",
    "vel_monthly_shortname = \"ECCO_L4_OCEAN_VEL_LLC0090GRID_MONTHLY_V4R4\"\n",
    "ecco_podaac_download(ShortName=vel_monthly_shortname,\\\n",
    "                    StartDate=\"2000-01-02\",EndDate=\"2000-12-31\",download_root_dir=None,\\\n",
    "                    n_workers=6,force_redownload=False)"
   ]
  },
  {
   "cell_type": "code",
   "execution_count": 4,
   "id": "a8e961b0-50d6-4b7a-8c04-b40394c18e4d",
   "metadata": {},
   "outputs": [],
   "source": [
    "## Import the ecco_v4_py library into Python\n",
    "## =========================================\n",
    "##    If ecco_v4_py is not installed in your local Python library, \n",
    "##    tell Python where to find it.  The example below adds\n",
    "##    ecco_v4_py to the user's path if it is stored in the folder\n",
    "##    ECCOv4-py under the user's home directory\n",
    "\n",
    "from os.path import join,expanduser\n",
    "user_home_dir = expanduser('~')\n",
    "\n",
    "sys.path.append(join(user_home_dir,'ECCOv4-py'))\n",
    "\n",
    "import ecco_v4_py as ecco"
   ]
  },
  {
   "cell_type": "code",
   "execution_count": 5,
   "id": "c18dad97-85ac-467a-b6fb-d4dc99eb1374",
   "metadata": {},
   "outputs": [],
   "source": [
    "## Set top-level file directory for the ECCO NetCDF files\n",
    "## =================================================================\n",
    "\n",
    "## currently set to ~/Downloads/ECCO_V4r4_PODAAC, \n",
    "## the default if ecco_podaac_download was used to download dataset granules\n",
    "ECCO_dir = join(user_home_dir,'Downloads','ECCO_V4r4_PODAAC')"
   ]
  },
  {
   "cell_type": "code",
   "execution_count": 6,
   "id": "97ecc4ad-83e2-4b7b-a14f-5071d67082ef",
   "metadata": {},
   "outputs": [],
   "source": [
    "## Load the model grid\n",
    "ecco_grid = xr.open_dataset(glob.glob(join(ECCO_dir,'*GEOMETRY*','*.nc'))[0])"
   ]
  },
  {
   "cell_type": "code",
   "execution_count": 7,
   "id": "0f8e4c51-acac-4590-87ca-a900219a7b72",
   "metadata": {},
   "outputs": [
    {
     "name": "stdout",
     "output_type": "stream",
     "text": [
      "Data variables:\n",
      "    CS       (tile, j, i) float32 0.06158 0.06675 0.07293 ... -0.9854 -0.9984\n",
      "    SN       (tile, j, i) float32 -0.9981 -0.9978 -0.9973 ... -0.1705 -0.05718\n",
      "    rA       (tile, j, i) float32 3.623e+08 3.633e+08 ... 3.685e+08 3.611e+08\n",
      "    dxG      (tile, j_g, i) float32 1.558e+04 1.559e+04 ... 2.36e+04 2.314e+04\n",
      "    dyG      (tile, j, i_g) float32 2.321e+04 2.327e+04 ... 1.56e+04 1.558e+04\n",
      "    Depth    (tile, j, i) float32 0.0 0.0 0.0 0.0 0.0 ... 0.0 0.0 0.0 0.0 0.0\n",
      "    rAz      (tile, j_g, i_g) float32 1.799e+08 1.805e+08 ... 3.642e+08\n",
      "    dxC      (tile, j, i_g) float32 1.558e+04 1.559e+04 ... 2.387e+04 2.341e+04\n",
      "    dyC      (tile, j_g, i) float32 1.156e+04 1.159e+04 ... 1.559e+04 1.558e+04\n",
      "    rAw      (tile, j, i_g) float32 3.617e+08 3.628e+08 ... 3.722e+08 3.648e+08\n",
      "    rAs      (tile, j_g, i) float32 1.802e+08 1.807e+08 ... 3.678e+08 3.605e+08\n",
      "    drC      (k_p1) float32 5.0 10.0 10.0 10.0 10.0 ... 399.0 422.0 445.0 228.2\n",
      "    drF      (k) float32 10.0 10.0 10.0 10.0 10.0 ... 387.5 410.5 433.5 456.5\n",
      "    PHrefC   (k) float32 49.05 147.1 245.2 ... 4.944e+04 5.357e+04 5.794e+04\n",
      "    PHrefF   (k_p1) float32 0.0 98.1 196.2 ... 5.145e+04 5.57e+04 6.018e+04\n",
      "    hFacC    (k, tile, j, i) float32 0.0 0.0 0.0 0.0 0.0 ... 0.0 0.0 0.0 0.0 0.0\n",
      "    hFacW    (k, tile, j, i_g) float32 0.0 0.0 0.0 0.0 0.0 ... 0.0 0.0 0.0 0.0\n",
      "    hFacS    (k, tile, j_g, i) float32 0.0 0.0 0.0 0.0 0.0 ... 0.0 0.0 0.0 0.0\n",
      "    maskC    (k, tile, j, i) bool False False False False ... False False False\n",
      "    maskW    (k, tile, j, i_g) bool False False False ... False False False\n",
      "    maskS    (k, tile, j_g, i) bool False False False ... False False False\n",
      "    UVEL     (time, k, tile, j, i_g) float32 nan nan nan nan ... nan nan nan nan\n",
      "    VVEL     (time, k, tile, j_g, i) float32 nan nan nan nan ... nan nan nan nan\n",
      "    WVEL     (time, k_l, tile, j, i) float32 nan nan nan nan ... nan nan nan nan\n"
     ]
    }
   ],
   "source": [
    "## Load vector fields\n",
    "ecco_vars = xr.open_mfdataset(join(ECCO_dir,'*OCEAN*VEL*MONTHLY*','*_2000-*.nc'))\n",
    "\n",
    "ecco_ds = []\n",
    "\n",
    "## Merge the ecco_grid with the ecco_vars to make the ecco_ds\n",
    "ecco_ds = xr.merge((ecco_grid , ecco_vars)).load()\n",
    "\n",
    "pprint(ecco_ds.data_vars)"
   ]
  },
  {
   "cell_type": "code",
   "execution_count": 8,
   "id": "4a474767-d8a5-44ae-bba2-8a9e25f2ed85",
   "metadata": {},
   "outputs": [],
   "source": [
    "#create arrays for zonal and meridional components of velocities over depths\n",
    "#Nz: vertical level; Nh: horizontal level\n",
    "Nz = 25\n",
    "Nh = 20\n",
    "\n",
    "UVEL_slice = np.zeros((Nz, Nh))\n",
    "VVEL_slice = np.zeros((Nz, Nh))\n",
    "lat_slice  = np.zeros((Nz, Nh))\n",
    "lon_slice  = np.zeros((Nz, Nh))"
   ]
  },
  {
   "cell_type": "code",
   "execution_count": 9,
   "id": "eb03d7fc-2a65-47bd-a6bf-56a395e575c6",
   "metadata": {},
   "outputs": [],
   "source": [
    "#interpolation along a line transect\n",
    "\n",
    "delta_lat = 0.25\n",
    "delta_lon = 0.25\n",
    "\n",
    "for i in range (0, Nh):\n",
    "    for j in range (0, Nz):\n",
    "\n",
    "        new_grid_min_lat = 35.625 + delta_lat * i\n",
    "        new_grid_max_lat = 36.125 + delta_lat * i\n",
    "\n",
    "        new_grid_min_lon = -69.375 - delta_lon * i\n",
    "        new_grid_max_lon = -68.875 - delta_lon * i\n",
    "\n",
    "        xfld = ecco_ds.UVEL.isel(k=j, time=0)\n",
    "        yfld = ecco_ds.VVEL.isel(k=j, time=0)\n",
    "\n",
    "        # Compute the zonal and meridional vector components of oceTAUX and oceTAUY\n",
    "        oceVEL_E, oceVEL_N  = ecco.vector_calc.UEVNfromUXVY(xfld, yfld, ecco_ds)\n",
    "\n",
    "        # interpolate to lat-lon\n",
    "        new_grid_lon_centers, new_grid_lat_centers,\\\n",
    "        new_grid_lon_edges, new_grid_lat_edges,\\\n",
    "        oceVEL_E_latlon =\\\n",
    "                ecco.resample_to_latlon(ecco_grid.XC, \\\n",
    "                                        ecco_grid.YC, \\\n",
    "                                        oceVEL_E,\\\n",
    "                                        new_grid_min_lat, new_grid_max_lat, delta_lat,\\\n",
    "                                        new_grid_min_lon, new_grid_max_lon, delta_lon,\\\n",
    "                                        fill_value = np.NaN, \\\n",
    "                                        mapping_method = 'nearest_neighbor',\n",
    "                                        radius_of_influence = 120000)\n",
    "        \n",
    "        new_grid_lon_centers, new_grid_lat_centers,\\\n",
    "        new_grid_lon_edges, new_grid_lat_edges,\\\n",
    "        oceVEL_N_latlon =\\\n",
    "                ecco.resample_to_latlon(ecco_grid.XC, \\\n",
    "                                        ecco_grid.YC, \\\n",
    "                                        oceVEL_N,\\\n",
    "                                        new_grid_min_lat, new_grid_max_lat, delta_lat,\\\n",
    "                                        new_grid_min_lon, new_grid_max_lon, delta_lon,\\\n",
    "                                        fill_value = np.NaN, \\\n",
    "                                        mapping_method = 'nearest_neighbor',\n",
    "                                        radius_of_influence = 120000)\n",
    "        UVEL_slice[j, i] = oceVEL_E_latlon[1, 1]\n",
    "        VVEL_slice[j, i] = oceVEL_N_latlon[1, 1]\n",
    "        lat_slice[j, i]  = new_grid_lat_centers[1, 1]\n",
    "        lon_slice[j, i]  = new_grid_lon_centers[1, 1]"
   ]
  },
  {
   "cell_type": "code",
   "execution_count": 10,
   "id": "2ff725b3-4170-47c4-ac11-c627986a45a5",
   "metadata": {},
   "outputs": [],
   "source": [
    "#calculate speed\n",
    "speed_slice = np.zeros((Nz, Nh))\n",
    "\n",
    "for i in range (0, Nh):\n",
    "    for j in range (0, Nz):\n",
    "        speed_slice[j, i] = np.sqrt(UVEL_slice[j, i]**2 + VVEL_slice[j, i]**2)"
   ]
  },
  {
   "cell_type": "code",
   "execution_count": 12,
   "id": "cfe1e156-0b43-4894-b0bc-cbf188bb13e7",
   "metadata": {},
   "outputs": [],
   "source": [
    "#To get the distance array\n",
    "distance_slice = np.zeros(Nh)\n",
    "for i in range(0, Nh-1):\n",
    "    start_point = (36, -69)\n",
    "    end_point = (36.25 + i * delta_lat, -69.25 - i * delta_lon)\n",
    "    distance_slice[i + 1] = distance.distance(start_point, end_point).km"
   ]
  },
  {
   "cell_type": "code",
   "execution_count": 13,
   "id": "4498ff33",
   "metadata": {},
   "outputs": [],
   "source": [
    "#To get a depth array\n",
    "depth_slice = ecco_grid.Z[0:25]"
   ]
  },
  {
   "cell_type": "code",
   "execution_count": 14,
   "id": "958419b4-b75c-4b6c-a500-bc6cc3efa2bc",
   "metadata": {},
   "outputs": [
    {
     "data": {
      "image/png": "[encoded data removed]",
      "text/plain": [
       "<Figure size 640x480 with 2 Axes>"
      ]
     },
     "metadata": {},
     "output_type": "display_data"
    }
   ],
   "source": [
    "#plot\n",
    "\n",
    "fig, ax = plt.subplots()\n",
    "\n",
    "im = ax.pcolormesh(distance_slice, depth_slice, speed_slice, vmin=0, vmax=0.3)\n",
    "plt.colorbar(im)\n",
    "plt.xlabel('distance along slice (km)')\n",
    "plt.ylabel('depth (m)')\n",
    "plt.title('Speed of Gulf Stream along Oleander')\n",
    "plt.show()"
   ]
  },
  {
   "cell_type": "code",
   "execution_count": null,
   "id": "11c509f0",
   "metadata": {},
   "outputs": [],
   "source": []
  }
 ],
 "metadata": {
  "kernelspec": {
   "display_name": "meixin",
   "language": "python",
   "name": "meixin"
  },
  "language_info": {
   "codemirror_mode": {
    "name": "ipython",
    "version": 3
   },
   "file_extension": ".py",
   "mimetype": "text/x-python",
   "name": "python",
   "nbconvert_exporter": "python",
   "pygments_lexer": "ipython3",
   "version": "3.11.3"
  }
 },
 "nbformat": 4,
 "nbformat_minor": 5
}
