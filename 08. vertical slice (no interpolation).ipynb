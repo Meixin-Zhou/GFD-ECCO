{
 "cells": [
  {
   "cell_type": "code",
   "execution_count": 1,
   "id": "fe0c0c73-ce7f-4452-97e3-8dbfa144d3d9",
   "metadata": {},
   "outputs": [],
   "source": [
    "import numpy as np\n",
    "import sys\n",
    "import xarray as xr\n",
    "import matplotlib.pyplot as plt\n",
    "from matplotlib.colors import BoundaryNorm\n",
    "from matplotlib.ticker import MaxNLocator\n",
    "\n",
    "%matplotlib inline\n",
    "import glob\n",
    "import warnings\n",
    "warnings.filterwarnings('ignore')\n",
    "from pprint import pprint\n",
    "import importlib\n",
    "\n",
    "import numpy as np\n",
    "from scipy import interpolate\n",
    "from scipy.interpolate import RegularGridInterpolator"
   ]
  },
  {
   "cell_type": "code",
   "execution_count": 2,
   "id": "0bf45270-8a4c-411c-b6d1-4aae70f2235b",
   "metadata": {},
   "outputs": [
    {
     "name": "stdout",
     "output_type": "stream",
     "text": [
      "created download directory /home/m267zhou/Downloads/ECCO_V4r4_PODAAC/ECCO_L4_GEOMETRY_LLC0090GRID_V4R4\n",
      "{'ShortName': 'ECCO_L4_GEOMETRY_LLC0090GRID_V4R4', 'temporal': '2000-01-09,2000-01-14'}\n",
      "\n",
      "Total number of matching granules: 1\n",
      "\n",
      "GRID_GEOMETRY_ECCO_V4r4_native_llc0090.nc already exists, and force=False, not re-downloading\n",
      "DL Progress: 100%|########################| 1/1 [00:00<00:00, 10459.61it/s]\n",
      "\n",
      "=====================================\n",
      "total downloaded: 0.0 Mb\n",
      "avg download speed: 0.0 Mb/s\n"
     ]
    }
   ],
   "source": [
    "#download the ECCO grid file\n",
    "\n",
    "from ecco_download import *\n",
    "\n",
    "ecco_podaac_download(ShortName=\"ECCO_L4_GEOMETRY_LLC0090GRID_V4R4\",\\\n",
    "                    StartDate=\"2000-01-09\",EndDate=\"2000-01-14\",download_root_dir=None,\\\n",
    "                    n_workers=6,force_redownload=False)"
   ]
  },
  {
   "cell_type": "code",
   "execution_count": 3,
   "id": "5aa893bf-8537-4a6b-96a8-651ed437aed3",
   "metadata": {},
   "outputs": [
    {
     "name": "stdout",
     "output_type": "stream",
     "text": [
      "created download directory /home/m267zhou/Downloads/ECCO_V4r4_PODAAC/ECCO_L4_OCEAN_VEL_LLC0090GRID_MONTHLY_V4R4\n",
      "{'ShortName': 'ECCO_L4_OCEAN_VEL_LLC0090GRID_MONTHLY_V4R4', 'temporal': '2000-01-02,2000-12-31'}\n",
      "\n",
      "Total number of matching granules: 12\n",
      "\n",
      "OCEAN_VELOCITY_mon_mean_2000-01_ECCO_V4r4_native_llc0090.nc already exists, and force=False, not re-downloading\n",
      "\n",
      "OCEAN_VELOCITY_mon_mean_2000-02_ECCO_V4r4_native_llc0090.nc already exists, and force=False, not re-downloading\n",
      "\n",
      "OCEAN_VELOCITY_mon_mean_2000-04_ECCO_V4r4_native_llc0090.nc already exists, and force=False, not re-downloading\n",
      "\n",
      "OCEAN_VELOCITY_mon_mean_2000-06_ECCO_V4r4_native_llc0090.nc already exists, and force=False, not re-downloading\n",
      "\n",
      "OCEAN_VELOCITY_mon_mean_2000-03_ECCO_V4r4_native_llc0090.nc already exists, and force=False, not re-downloading\n",
      "\n",
      "OCEAN_VELOCITY_mon_mean_2000-05_ECCO_V4r4_native_llc0090.nc already exists, and force=False, not re-downloading\n",
      "\n",
      "OCEAN_VELOCITY_mon_mean_2000-07_ECCO_V4r4_native_llc0090.nc already exists, and force=False, not re-downloading\n",
      "\n",
      "OCEAN_VELOCITY_mon_mean_2000-08_ECCO_V4r4_native_llc0090.nc already exists, and force=False, not re-downloading\n",
      "\n",
      "OCEAN_VELOCITY_mon_mean_2000-10_ECCO_V4r4_native_llc0090.nc already exists, and force=False, not re-downloading\n",
      "\n",
      "OCEAN_VELOCITY_mon_mean_2000-09_ECCO_V4r4_native_llc0090.nc already exists, and force=False, not re-downloading\n",
      "\n",
      "OCEAN_VELOCITY_mon_mean_2000-12_ECCO_V4r4_native_llc0090.nc already exists, and force=False, not re-downloading\n",
      "\n",
      "OCEAN_VELOCITY_mon_mean_2000-11_ECCO_V4r4_native_llc0090.nc already exists, and force=False, not re-downloading\n",
      "DL Progress: 100%|######################| 12/12 [00:00<00:00, 79638.68it/s]\n",
      "\n",
      "=====================================\n",
      "total downloaded: 0.0 Mb\n",
      "avg download speed: 0.0 Mb/s\n"
     ]
    }
   ],
   "source": [
    "# download file (granule) containing 2000 velocities,\n",
    "# to default path ~/Downloads/ECCO_V4r4_PODAAC/\n",
    "vel_monthly_shortname = \"ECCO_L4_OCEAN_VEL_LLC0090GRID_MONTHLY_V4R4\"\n",
    "ecco_podaac_download(ShortName=vel_monthly_shortname,\\\n",
    "                    StartDate=\"2000-01-02\",EndDate=\"2000-12-31\",download_root_dir=None,\\\n",
    "                    n_workers=6,force_redownload=False)"
   ]
  },
  {
   "cell_type": "code",
   "execution_count": 4,
   "id": "73714f59-b17b-430b-a540-35d85bfcdeb0",
   "metadata": {},
   "outputs": [],
   "source": [
    "## Import the ecco_v4_py library into Python\n",
    "## =========================================\n",
    "##    If ecco_v4_py is not installed in your local Python library, \n",
    "##    tell Python where to find it.  The example below adds\n",
    "##    ecco_v4_py to the user's path if it is stored in the folder\n",
    "##    ECCOv4-py under the user's home directory\n",
    "\n",
    "from os.path import join,expanduser\n",
    "user_home_dir = expanduser('~')\n",
    "\n",
    "sys.path.append(join(user_home_dir,'ECCOv4-py'))\n",
    "\n",
    "import ecco_v4_py as ecco"
   ]
  },
  {
   "cell_type": "code",
   "execution_count": 5,
   "id": "7a784e48-d6c3-4730-9eaa-b479e66dc605",
   "metadata": {},
   "outputs": [],
   "source": [
    "## Set top-level file directory for the ECCO NetCDF files\n",
    "## =================================================================\n",
    "\n",
    "## currently set to ~/Downloads/ECCO_V4r4_PODAAC, \n",
    "## the default if ecco_podaac_download was used to download dataset granules\n",
    "ECCO_dir = join(user_home_dir,'Downloads','ECCO_V4r4_PODAAC')"
   ]
  },
  {
   "cell_type": "code",
   "execution_count": 6,
   "id": "5948bec9-fda1-4ad4-857b-88d9c0686523",
   "metadata": {},
   "outputs": [],
   "source": [
    "## Load the model grid\n",
    "ecco_grid = xr.open_dataset(glob.glob(join(ECCO_dir,'*GEOMETRY*','*.nc'))[0])"
   ]
  },
  {
   "cell_type": "code",
   "execution_count": 7,
   "id": "e15cc6d1-5d3b-4c49-9940-afa9f500840c",
   "metadata": {},
   "outputs": [],
   "source": [
    "## Load vector fields\n",
    "ecco_vars = xr.open_mfdataset(join(ECCO_dir,'*OCEAN*VEL*MONTHLY*','*_2000-*.nc'))\n",
    "\n",
    "ecco_ds = []\n",
    "\n",
    "## Merge the ecco_grid with the ecco_vars to make the ecco_ds\n",
    "ecco_ds = xr.merge((ecco_grid , ecco_vars)).load()"
   ]
  },
  {
   "cell_type": "code",
   "execution_count": 8,
   "id": "3e191a12-561a-4fd6-bbde-60491d04e228",
   "metadata": {},
   "outputs": [],
   "source": [
    "vel_34_lat = np.zeros((50, 66-50))"
   ]
  },
  {
   "cell_type": "code",
   "execution_count": 9,
   "id": "cc05dd1d-1d1f-4489-9cc3-fd72584dc409",
   "metadata": {},
   "outputs": [],
   "source": [
    "#at 33.5 degree latitude (YC[something, 64], max = 33.521168, min = 33.521168)\n",
    "#something: [50, 66)\n",
    "#longitude from -77.5 to -62.5 degree\n",
    "for depth in range (0,50):\n",
    "    for lon in range(50, 66):\n",
    "        xfld = ecco_ds.UVEL.isel(k=depth, time=0)\n",
    "        yfld = ecco_ds.VVEL.isel(k=depth, time=0)\n",
    "        # Compute the zonal and meridional vector components of UVEL and VVEL\n",
    "        VEL_E, VEL_N  = ecco.vector_calc.UEVNfromUXVY(xfld, yfld, ecco_ds)  \n",
    "        vel_34_lat[depth, lon-50] = VEL_N.isel(tile=10)[lon,64].values"
   ]
  },
  {
   "cell_type": "code",
   "execution_count": 10,
   "id": "70bcd9b4-cdeb-40de-bf53-1b5164f41dcc",
   "metadata": {},
   "outputs": [
    {
     "data": {
      "image/png": "[encoded data removed]",
      "text/plain": [
       "<Figure size 800x1040 with 2 Axes>"
      ]
     },
     "metadata": {},
     "output_type": "display_data"
    }
   ],
   "source": [
    "#plot vertical slice at 33.5 degree latitude\n",
    "plt.figure(figsize=(10,13), dpi= 80);\n",
    "\n",
    "xfld = ecco_ds.UVEL.isel(k=0, time=0)\n",
    "yfld = ecco_ds.VVEL.isel(k=0, time=0)\n",
    "\n",
    "# Compute the zonal and meridional vector components of UVEL and VVEL\n",
    "VEL_E, VEL_N  = ecco.vector_calc.UEVNfromUXVY(xfld, yfld, ecco_ds) \n",
    "\n",
    "#get longitude and depth array\n",
    "lon_ran = VEL_N.isel(tile=10).XC[50:66,64].values\n",
    "dep_ran = np.array(ecco_grid.Z[0:50])\n",
    "\n",
    "plt.contourf(lon_ran, dep_ran, vel_34_lat)\n",
    "plt.title('Vertical slice of VVEL at constant latitude 33.5 degree');\n",
    "plt.xlabel('longitude')\n",
    "plt.ylabel('depth')\n",
    "plt.colorbar(orientation='horizontal');"
   ]
  },
  {
   "cell_type": "code",
   "execution_count": null,
   "id": "ed8619de-8dce-46b1-81a7-4dadf5ec4073",
   "metadata": {},
   "outputs": [],
   "source": []
  }
 ],
 "metadata": {
  "kernelspec": {
   "display_name": "meixin",
   "language": "python",
   "name": "meixin"
  },
  "language_info": {
   "codemirror_mode": {
    "name": "ipython",
    "version": 3
   },
   "file_extension": ".py",
   "mimetype": "text/x-python",
   "name": "python",
   "nbconvert_exporter": "python",
   "pygments_lexer": "ipython3",
   "version": "3.11.3"
  }
 },
 "nbformat": 4,
 "nbformat_minor": 5
}
